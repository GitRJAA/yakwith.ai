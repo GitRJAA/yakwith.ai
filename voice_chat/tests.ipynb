{
 "cells": [
  {
   "cell_type": "markdown",
   "metadata": {},
   "source": [
    "** Scratch pad for tests **\n",
    "Expects HF models to be served with TGI - use `make run_tgi` to launch TGi from docker container. \n",
    "Launch api server with `python chat_api.py`"
   ]
  },
  {
   "cell_type": "code",
   "execution_count": null,
   "metadata": {},
   "outputs": [],
   "source": [
    "import requests\n",
    "from pydantic import BaseModel\n",
    "from typing import Optional\n",
    "import json"
   ]
  },
  {
   "cell_type": "code",
   "execution_count": null,
   "metadata": {},
   "outputs": [],
   "source": [
    "url = 'http://localhost:8884/create_agent_session'\n",
    "response = requests.get(url)\n",
    "response\n"
   ]
  },
  {
   "cell_type": "code",
   "execution_count": null,
   "metadata": {},
   "outputs": [],
   "source": [
    "session=response.content.decode('utf-8')\n",
    "session = json.loads(session)\n",
    "session_id=session['session_id']\n",
    "data = {\"user_input\":\"What are the top 3 tourist destiantions in Sydney?\",\"session_id\":session_id}\n",
    "#data\n",
    "print(data)\n"
   ]
  },
  {
   "cell_type": "code",
   "execution_count": null,
   "metadata": {},
   "outputs": [],
   "source": [
    "%%timeit -n 1 -r 1\n",
    "url_chat = 'http://localhost:8884/chat_with_agent'\n",
    "with requests.post(url_chat, json=data, stream=True) as response:\n",
    "    for x in response.iter_content(chunk_size=None):\n",
    "        print (x.decode('utf-8'), end=\"\", flush=True)\n"
   ]
  },
  {
   "cell_type": "code",
   "execution_count": null,
   "metadata": {},
   "outputs": [],
   "source": [
    "%%timeit -n 5 -r 1\n",
    "url_chat = 'http://localhost:8884/chat_with_agent'\n",
    "with requests.post(url_chat, json=data) as response:\n",
    "    print (response.content)"
   ]
  },
  {
   "cell_type": "code",
   "execution_count": null,
   "metadata": {},
   "outputs": [],
   "source": [
    "import aiohttp\n",
    "import asyncio"
   ]
  },
  {
   "cell_type": "code",
   "execution_count": null,
   "metadata": {},
   "outputs": [],
   "source": [
    "url_chat = 'http://localhost:8884/chat_with_agent'\n",
    "async with aiohttp.ClientSession() as session:\n",
    "    async with session.post(url_chat, json=data) as response:\n",
    "        async for x in response.content.iter_any():\n",
    "            print (x.decode('utf-8'), end=\"\", flush=True)"
   ]
  },
  {
   "cell_type": "code",
   "execution_count": null,
   "metadata": {},
   "outputs": [],
   "source": [
    "data['user_input'] = \"You are good at finding and correcting spelling mistakes. Please correct the spelling mistakes to make it proper English: 'Please Sow mW capiorel for\\n\\nhelio.\\nof gourrel Sundiicpes and hore\\nmeade. deseer le'\""
   ]
  },
  {
   "cell_type": "code",
   "execution_count": null,
   "metadata": {},
   "outputs": [],
   "source": [
    "url_chat = 'http://localhost:8884/chat_with_agent'\n",
    "async with aiohttp.ClientSession() as session:\n",
    "    async with session.post(url_chat, json=data) as response:\n",
    "        async for x in response.content.iter_any():\n",
    "            print (x.decode('utf-8'), end=\"\", flush=True)"
   ]
  },
  {
   "cell_type": "code",
   "execution_count": null,
   "metadata": {},
   "outputs": [],
   "source": [
    "from omegaconf import OmegaConf\n",
    "from griptape.rules import Rule, Ruleset\n",
    "from typing import List, Dict\n",
    "from dataclasses import dataclass\n",
    "from attr import field, define, Factory\n",
    "\n",
    "@dataclass\n",
    "class my_configs:\n",
    "    rule_strings: List[str] = field(default=Factory(list), kw_only=True)\n",
    "\n",
    "    @property\n",
    "    def rules(self):\n",
    "        rule_list=[]\n",
    "        for rule in self.rule_strings:\n",
    "            rule_list.append[Rule(rule)]\n",
    "        return rule_list\n",
    "    @rules.setter\n",
    "    def rules(self,rules:List[str]):\n",
    "        self.rule_strings = self.rules\n",
    "        \n"
   ]
  },
  {
   "cell_type": "code",
   "execution_count": null,
   "metadata": {},
   "outputs": [],
   "source": [
    "test =my_configs(rule_strings=['You are a total tool','You are not a tool'])\n",
    "\n",
    "_config = OmegaConf.create(test)\n",
    "OmegaConf.save(_config,\"conf.yaml\")"
   ]
  },
  {
   "cell_type": "code",
   "execution_count": null,
   "metadata": {},
   "outputs": [],
   "source": [
    "_config.keys()"
   ]
  },
  {
   "cell_type": "code",
   "execution_count": null,
   "metadata": {},
   "outputs": [],
   "source": [
    "a=OmegaConf.load(\"conf.yaml\")\n",
    "parsed_a = OmegaConf.structured(a,my_configs)"
   ]
  },
  {
   "cell_type": "code",
   "execution_count": null,
   "metadata": {},
   "outputs": [],
   "source": [
    "from omegaconf import OmegaConf\n",
    "from data.chat_data_classes import ModelDriverConfiguration\n",
    "a=ModelDriverConfiguration(model='http://localhost:8080',pretrained_tokenizer=\"/home/mtman/Documents/Repos/yakwith.ai/models/Mistral-7B-OpenOrca\")\n",
    "conf = OmegaConf.create(a)\n",
    "OmegaConf.save(conf,'default_model_driver.yaml')\n",
    "conf"
   ]
  },
  {
   "cell_type": "code",
   "execution_count": null,
   "metadata": {},
   "outputs": [],
   "source": [
    "x = OmegaConf.load('default_model_driver.yaml')"
   ]
  },
  {
   "cell_type": "code",
   "execution_count": null,
   "metadata": {},
   "outputs": [],
   "source": [
    "x.keys()"
   ]
  },
  {
   "cell_type": "code",
   "execution_count": null,
   "metadata": {},
   "outputs": [],
   "source": [
    "type(x), x.token"
   ]
  },
  {
   "cell_type": "code",
   "execution_count": null,
   "metadata": {},
   "outputs": [],
   "source": [
    "for thing in x:\n",
    "    print(getattr(x,thing))"
   ]
  },
  {
   "cell_type": "code",
   "execution_count": null,
   "metadata": {},
   "outputs": [],
   "source": [
    "new_conf = ModelDriverConfiguration()"
   ]
  },
  {
   "cell_type": "code",
   "execution_count": null,
   "metadata": {},
   "outputs": [],
   "source": [
    "type(new_conf)"
   ]
  },
  {
   "cell_type": "code",
   "execution_count": null,
   "metadata": {},
   "outputs": [],
   "source": [
    "new_conf.from_omega_conf(x)"
   ]
  },
  {
   "cell_type": "code",
   "execution_count": null,
   "metadata": {},
   "outputs": [],
   "source": [
    "new_conf"
   ]
  },
  {
   "cell_type": "code",
   "execution_count": null,
   "metadata": {},
   "outputs": [],
   "source": [
    "from yak_agent import YakAgent"
   ]
  },
  {
   "cell_type": "code",
   "execution_count": 2,
   "metadata": {},
   "outputs": [],
   "source": [
    "from data.chat_data_classes import RuleList\n",
    "from griptape.rules import Rule\n",
    "from omegaconf import OmegaConf"
   ]
  },
  {
   "cell_type": "code",
   "execution_count": 4,
   "metadata": {},
   "outputs": [
    {
     "ename": "AttributeError",
     "evalue": "'RuleList' object attribute 'name' is read-only",
     "output_type": "error",
     "traceback": [
      "\u001b[0;31m---------------------------------------------------------------------------\u001b[0m",
      "\u001b[0;31mAttributeError\u001b[0m                            Traceback (most recent call last)",
      "\u001b[1;32m/home/mtman/Documents/Repos/yakwith.ai/voice_chat/tests.ipynb Cell 26\u001b[0m line \u001b[0;36m2\n\u001b[1;32m      <a href='vscode-notebook-cell://ssh-remote%2Bbeastly/home/mtman/Documents/Repos/yakwith.ai/voice_chat/tests.ipynb#X43sdnNjb2RlLXJlbW90ZQ%3D%3D?line=0'>1</a>\u001b[0m conf\u001b[39m=\u001b[39mOmegaConf\u001b[39m.\u001b[39mload(\u001b[39m'\u001b[39m\u001b[39mconfigs/rules/agent/default_rule_set.yaml\u001b[39m\u001b[39m'\u001b[39m)\n\u001b[0;32m----> <a href='vscode-notebook-cell://ssh-remote%2Bbeastly/home/mtman/Documents/Repos/yakwith.ai/voice_chat/tests.ipynb#X43sdnNjb2RlLXJlbW90ZQ%3D%3D?line=1'>2</a>\u001b[0m \u001b[39mcls\u001b[39m\u001b[39m=\u001b[39mRuleList()\u001b[39m.\u001b[39mfrom_omega_conf(conf)\n",
      "File \u001b[0;32m<attrs generated init data.chat_data_classes.RuleList>:2\u001b[0m, in \u001b[0;36m__init__\u001b[0;34m(self, name, rules)\u001b[0m\n\u001b[1;32m      1\u001b[0m \u001b[39mdef\u001b[39;00m \u001b[39m__init__\u001b[39m(\u001b[39mself\u001b[39m, name\u001b[39m=\u001b[39mattr_dict[\u001b[39m'\u001b[39m\u001b[39mname\u001b[39m\u001b[39m'\u001b[39m]\u001b[39m.\u001b[39mdefault, \u001b[39m*\u001b[39m, rules\u001b[39m=\u001b[39mNOTHING):\n\u001b[0;32m----> 2\u001b[0m     \u001b[39mself\u001b[39;49m\u001b[39m.\u001b[39;49mname \u001b[39m=\u001b[39m name\n\u001b[1;32m      3\u001b[0m     \u001b[39mif\u001b[39;00m rules \u001b[39mis\u001b[39;00m \u001b[39mnot\u001b[39;00m NOTHING:\n\u001b[1;32m      4\u001b[0m         \u001b[39mself\u001b[39m\u001b[39m.\u001b[39mrules \u001b[39m=\u001b[39m rules\n",
      "\u001b[0;31mAttributeError\u001b[0m: 'RuleList' object attribute 'name' is read-only"
     ]
    }
   ],
   "source": [
    "conf=OmegaConf.load('configs/rules/agent/default_rule_set.yaml')\n",
    "cls=RuleList().from_omega_conf(conf)"
   ]
  },
  {
   "cell_type": "code",
   "execution_count": 3,
   "metadata": {},
   "outputs": [],
   "source": [
    "for key in conf:\n",
    "    if hasattr(cls, key):\n",
    "        _value = getattr(conf, key)\n",
    "        if key == \"rules\":\n",
    "            ret = []\n",
    "            for rule_string in _value:\n",
    "                ret.append(Rule(rule_string))\n",
    "            setattr(cls, key, ret)\n",
    "        else:\n",
    "            setattr(cls, key, _value)"
   ]
  },
  {
   "cell_type": "code",
   "execution_count": 8,
   "metadata": {},
   "outputs": [
    {
     "ename": "AttributeError",
     "evalue": "'NoneType' object has no attribute 'name'",
     "output_type": "error",
     "traceback": [
      "\u001b[0;31m---------------------------------------------------------------------------\u001b[0m",
      "\u001b[0;31mAttributeError\u001b[0m                            Traceback (most recent call last)",
      "\u001b[1;32m/home/mtman/Documents/Repos/yakwith.ai/voice_chat/tests.ipynb Cell 28\u001b[0m line \u001b[0;36m1\n\u001b[0;32m----> <a href='vscode-notebook-cell://ssh-remote%2Bbeastly/home/mtman/Documents/Repos/yakwith.ai/voice_chat/tests.ipynb#X44sdnNjb2RlLXJlbW90ZQ%3D%3D?line=0'>1</a>\u001b[0m \u001b[39mcls\u001b[39;49m\u001b[39m.\u001b[39;49mname\n",
      "\u001b[0;31mAttributeError\u001b[0m: 'NoneType' object has no attribute 'name'"
     ]
    }
   ],
   "source": [
    "cls.name"
   ]
  },
  {
   "cell_type": "code",
   "execution_count": 5,
   "metadata": {},
   "outputs": [
    {
     "data": {
      "text/plain": [
       "{'name': 'CommonRules', 'rules': ['You can not substitute any ingredients', 'If a meal contains meat, you can replace meat with Tofu or Mushrooms', \"If you do not know the answer to a customers questions, say 'I have to ask the manager, please give me a second.'\", 'All meals and drinks can be ordered for takeaway.']}"
      ]
     },
     "execution_count": 5,
     "metadata": {},
     "output_type": "execute_result"
    }
   ],
   "source": [
    "conf"
   ]
  },
  {
   "cell_type": "code",
   "execution_count": 30,
   "metadata": {},
   "outputs": [
    {
     "data": {
      "text/plain": [
       "Rule(value='Hello')"
      ]
     },
     "execution_count": 30,
     "metadata": {},
     "output_type": "execute_result"
    }
   ],
   "source": [
    "a"
   ]
  },
  {
   "cell_type": "code",
   "execution_count": null,
   "metadata": {},
   "outputs": [],
   "source": []
  }
 ],
 "metadata": {
  "kernelspec": {
   "display_name": ".venv",
   "language": "python",
   "name": "python3"
  },
  "language_info": {
   "codemirror_mode": {
    "name": "ipython",
    "version": 3
   },
   "file_extension": ".py",
   "mimetype": "text/x-python",
   "name": "python",
   "nbconvert_exporter": "python",
   "pygments_lexer": "ipython3",
   "version": "3.10.12"
  }
 },
 "nbformat": 4,
 "nbformat_minor": 2
}
