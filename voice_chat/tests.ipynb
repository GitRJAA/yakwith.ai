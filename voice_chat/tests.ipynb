{
 "cells": [
  {
   "cell_type": "markdown",
   "metadata": {},
   "source": [
    "** Scratch pad for tests **\n",
    "Expects HF models to be served with TGI - use `make run_tgi` to launch TGi from docker container. \n",
    "Launch api server with `python chat_api.py`"
   ]
  },
  {
   "cell_type": "code",
   "execution_count": null,
   "metadata": {},
   "outputs": [],
   "source": [
    "import requests\n",
    "from pydantic import BaseModel\n",
    "from typing import Optional\n",
    "import json"
   ]
  },
  {
   "cell_type": "code",
   "execution_count": null,
   "metadata": {},
   "outputs": [],
   "source": [
    "url = 'http://localhost:8884/create_agent_session'\n",
    "response = requests.get(url)\n",
    "response\n"
   ]
  },
  {
   "cell_type": "code",
   "execution_count": null,
   "metadata": {},
   "outputs": [],
   "source": [
    "session=response.content.decode('utf-8')\n",
    "session = json.loads(session)\n",
    "session_id=session['session_id']\n",
    "data = {\"user_input\":\"What are the top 3 tourist destiantions in Sydney?\",\"session_id\":session_id}\n",
    "#data\n",
    "print(data)\n"
   ]
  },
  {
   "cell_type": "code",
   "execution_count": null,
   "metadata": {},
   "outputs": [],
   "source": [
    "%%timeit -n 1 -r 1\n",
    "url_chat = 'http://localhost:8884/chat_with_agent'\n",
    "with requests.post(url_chat, json=data, stream=True) as response:\n",
    "    for x in response.iter_content(chunk_size=None):\n",
    "        print (x.decode('utf-8'), end=\"\", flush=True)\n"
   ]
  },
  {
   "cell_type": "code",
   "execution_count": null,
   "metadata": {},
   "outputs": [],
   "source": [
    "%%timeit -n 5 -r 1\n",
    "url_chat = 'http://localhost:8884/chat_with_agent'\n",
    "with requests.post(url_chat, json=data) as response:\n",
    "    print (response.content)"
   ]
  },
  {
   "cell_type": "code",
   "execution_count": null,
   "metadata": {},
   "outputs": [],
   "source": [
    "import aiohttp\n",
    "import asyncio"
   ]
  },
  {
   "cell_type": "code",
   "execution_count": null,
   "metadata": {},
   "outputs": [],
   "source": [
    "url_chat = 'http://localhost:8884/chat_with_agent'\n",
    "async with aiohttp.ClientSession() as session:\n",
    "    async with session.post(url_chat, json=data) as response:\n",
    "        async for x in response.content.iter_any():\n",
    "            print (x.decode('utf-8'), end=\"\", flush=True)"
   ]
  },
  {
   "cell_type": "code",
   "execution_count": null,
   "metadata": {},
   "outputs": [],
   "source": [
    "data['user_input'] = \"You are good at finding and correcting spelling mistakes. Please correct the spelling mistakes to make it proper English: 'Please Sow mW capiorel for\\n\\nhelio.\\nof gourrel Sundiicpes and hore\\nmeade. deseer le'\""
   ]
  },
  {
   "cell_type": "code",
   "execution_count": null,
   "metadata": {},
   "outputs": [],
   "source": [
    "url_chat = 'http://localhost:8884/chat_with_agent'\n",
    "async with aiohttp.ClientSession() as session:\n",
    "    async with session.post(url_chat, json=data) as response:\n",
    "        async for x in response.content.iter_any():\n",
    "            print (x.decode('utf-8'), end=\"\", flush=True)"
   ]
  },
  {
   "cell_type": "code",
   "execution_count": null,
   "metadata": {},
   "outputs": [],
   "source": [
    "from omegaconf import OmegaConf\n",
    "from griptape.rules import Rule, Ruleset\n",
    "from typing import List, Dict\n",
    "from dataclasses import dataclass\n",
    "from attr import field, define, Factory\n",
    "\n",
    "@dataclass\n",
    "class my_configs:\n",
    "    rule_strings: List[str] = field(default=Factory(list), kw_only=True)\n",
    "\n",
    "    @property\n",
    "    def rules(self):\n",
    "        rule_list=[]\n",
    "        for rule in self.rule_strings:\n",
    "            rule_list.append[Rule(rule)]\n",
    "        return rule_list\n",
    "    @rules.setter\n",
    "    def rules(self,rules:List[str]):\n",
    "        self.rule_strings = self.rules\n",
    "        \n"
   ]
  },
  {
   "cell_type": "code",
   "execution_count": null,
   "metadata": {},
   "outputs": [],
   "source": [
    "test =my_configs(rule_strings=['You are a total tool','You are not a tool'])\n",
    "\n",
    "_config = OmegaConf.create(test)\n",
    "OmegaConf.save(_config,\"conf.yaml\")"
   ]
  },
  {
   "cell_type": "code",
   "execution_count": null,
   "metadata": {},
   "outputs": [],
   "source": [
    "_config.keys()"
   ]
  },
  {
   "cell_type": "code",
   "execution_count": null,
   "metadata": {},
   "outputs": [],
   "source": [
    "a=OmegaConf.load(\"conf.yaml\")\n",
    "parsed_a = OmegaConf.structured(a,my_configs)"
   ]
  },
  {
   "cell_type": "code",
   "execution_count": null,
   "metadata": {},
   "outputs": [],
   "source": [
    "from omegaconf import OmegaConf\n",
    "from data.chat_data_classes import ModelDriverConfiguration\n",
    "a=ModelDriverConfiguration(model='http://localhost:8080',pretrained_tokenizer=\"/home/mtman/Documents/Repos/yakwith.ai/models/Mistral-7B-OpenOrca\")\n",
    "conf = OmegaConf.create(a)\n",
    "OmegaConf.save(conf,'default_model_driver.yaml')\n",
    "conf"
   ]
  },
  {
   "cell_type": "code",
   "execution_count": null,
   "metadata": {},
   "outputs": [],
   "source": [
    "x = OmegaConf.load('default_model_driver.yaml')"
   ]
  },
  {
   "cell_type": "code",
   "execution_count": null,
   "metadata": {},
   "outputs": [],
   "source": [
    "x.keys()"
   ]
  },
  {
   "cell_type": "code",
   "execution_count": null,
   "metadata": {},
   "outputs": [],
   "source": [
    "type(x), x.token"
   ]
  },
  {
   "cell_type": "code",
   "execution_count": null,
   "metadata": {},
   "outputs": [],
   "source": [
    "for thing in x:\n",
    "    print(getattr(x,thing))"
   ]
  },
  {
   "cell_type": "code",
   "execution_count": null,
   "metadata": {},
   "outputs": [],
   "source": [
    "new_conf = ModelDriverConfiguration()"
   ]
  },
  {
   "cell_type": "code",
   "execution_count": null,
   "metadata": {},
   "outputs": [],
   "source": [
    "type(new_conf)"
   ]
  },
  {
   "cell_type": "code",
   "execution_count": null,
   "metadata": {},
   "outputs": [],
   "source": [
    "new_conf.from_omega_conf(x)"
   ]
  },
  {
   "cell_type": "code",
   "execution_count": null,
   "metadata": {},
   "outputs": [],
   "source": [
    "new_conf"
   ]
  },
  {
   "cell_type": "code",
   "execution_count": null,
   "metadata": {},
   "outputs": [],
   "source": [
    "from voice_chat.agents.yak_agent import YakAgent"
   ]
  },
  {
   "cell_type": "code",
   "execution_count": 2,
   "metadata": {},
   "outputs": [],
   "source": [
    "from data.chat_data_classes import RuleList\n",
    "from griptape.rules import Rule\n",
    "from omegaconf import OmegaConf"
   ]
  },
  {
   "cell_type": "code",
   "execution_count": 4,
   "metadata": {},
   "outputs": [
    {
     "ename": "AttributeError",
     "evalue": "'RuleList' object attribute 'name' is read-only",
     "output_type": "error",
     "traceback": [
      "\u001b[0;31m---------------------------------------------------------------------------\u001b[0m",
      "\u001b[0;31mAttributeError\u001b[0m                            Traceback (most recent call last)",
      "\u001b[1;32m/home/mtman/Documents/Repos/yakwith.ai/voice_chat/tests.ipynb Cell 26\u001b[0m line \u001b[0;36m2\n\u001b[1;32m      <a href='vscode-notebook-cell://ssh-remote%2Bbeastly/home/mtman/Documents/Repos/yakwith.ai/voice_chat/tests.ipynb#X43sdnNjb2RlLXJlbW90ZQ%3D%3D?line=0'>1</a>\u001b[0m conf\u001b[39m=\u001b[39mOmegaConf\u001b[39m.\u001b[39mload(\u001b[39m'\u001b[39m\u001b[39mconfigs/rules/agent/default_rule_set.yaml\u001b[39m\u001b[39m'\u001b[39m)\n\u001b[0;32m----> <a href='vscode-notebook-cell://ssh-remote%2Bbeastly/home/mtman/Documents/Repos/yakwith.ai/voice_chat/tests.ipynb#X43sdnNjb2RlLXJlbW90ZQ%3D%3D?line=1'>2</a>\u001b[0m \u001b[39mcls\u001b[39m\u001b[39m=\u001b[39mRuleList()\u001b[39m.\u001b[39mfrom_omega_conf(conf)\n",
      "File \u001b[0;32m<attrs generated init data.chat_data_classes.RuleList>:2\u001b[0m, in \u001b[0;36m__init__\u001b[0;34m(self, name, rules)\u001b[0m\n\u001b[1;32m      1\u001b[0m \u001b[39mdef\u001b[39;00m \u001b[39m__init__\u001b[39m(\u001b[39mself\u001b[39m, name\u001b[39m=\u001b[39mattr_dict[\u001b[39m'\u001b[39m\u001b[39mname\u001b[39m\u001b[39m'\u001b[39m]\u001b[39m.\u001b[39mdefault, \u001b[39m*\u001b[39m, rules\u001b[39m=\u001b[39mNOTHING):\n\u001b[0;32m----> 2\u001b[0m     \u001b[39mself\u001b[39;49m\u001b[39m.\u001b[39;49mname \u001b[39m=\u001b[39m name\n\u001b[1;32m      3\u001b[0m     \u001b[39mif\u001b[39;00m rules \u001b[39mis\u001b[39;00m \u001b[39mnot\u001b[39;00m NOTHING:\n\u001b[1;32m      4\u001b[0m         \u001b[39mself\u001b[39m\u001b[39m.\u001b[39mrules \u001b[39m=\u001b[39m rules\n",
      "\u001b[0;31mAttributeError\u001b[0m: 'RuleList' object attribute 'name' is read-only"
     ]
    }
   ],
   "source": [
    "conf=OmegaConf.load('configs/rules/agent/default_rule_set.yaml')\n",
    "cls=RuleList().from_omega_conf(conf)"
   ]
  },
  {
   "cell_type": "code",
   "execution_count": 3,
   "metadata": {},
   "outputs": [],
   "source": [
    "for key in conf:\n",
    "    if hasattr(cls, key):\n",
    "        _value = getattr(conf, key)\n",
    "        if key == \"rules\":\n",
    "            ret = []\n",
    "            for rule_string in _value:\n",
    "                ret.append(Rule(rule_string))\n",
    "            setattr(cls, key, ret)\n",
    "        else:\n",
    "            setattr(cls, key, _value)"
   ]
  },
  {
   "cell_type": "code",
   "execution_count": 8,
   "metadata": {},
   "outputs": [
    {
     "ename": "AttributeError",
     "evalue": "'NoneType' object has no attribute 'name'",
     "output_type": "error",
     "traceback": [
      "\u001b[0;31m---------------------------------------------------------------------------\u001b[0m",
      "\u001b[0;31mAttributeError\u001b[0m                            Traceback (most recent call last)",
      "\u001b[1;32m/home/mtman/Documents/Repos/yakwith.ai/voice_chat/tests.ipynb Cell 28\u001b[0m line \u001b[0;36m1\n\u001b[0;32m----> <a href='vscode-notebook-cell://ssh-remote%2Bbeastly/home/mtman/Documents/Repos/yakwith.ai/voice_chat/tests.ipynb#X44sdnNjb2RlLXJlbW90ZQ%3D%3D?line=0'>1</a>\u001b[0m \u001b[39mcls\u001b[39;49m\u001b[39m.\u001b[39;49mname\n",
      "\u001b[0;31mAttributeError\u001b[0m: 'NoneType' object has no attribute 'name'"
     ]
    }
   ],
   "source": [
    "cls.name"
   ]
  },
  {
   "cell_type": "code",
   "execution_count": 5,
   "metadata": {},
   "outputs": [
    {
     "data": {
      "text/plain": [
       "{'name': 'CommonRules', 'rules': ['You can not substitute any ingredients', 'If a meal contains meat, you can replace meat with Tofu or Mushrooms', \"If you do not know the answer to a customers questions, say 'I have to ask the manager, please give me a second.'\", 'All meals and drinks can be ordered for takeaway.']}"
      ]
     },
     "execution_count": 5,
     "metadata": {},
     "output_type": "execute_result"
    }
   ],
   "source": [
    "conf"
   ]
  },
  {
   "cell_type": "code",
   "execution_count": 30,
   "metadata": {},
   "outputs": [
    {
     "data": {
      "text/plain": [
       "Rule(value='Hello')"
      ]
     },
     "execution_count": 30,
     "metadata": {},
     "output_type": "execute_result"
    }
   ],
   "source": [
    "a"
   ]
  },
  {
   "cell_type": "code",
   "execution_count": 1,
   "metadata": {},
   "outputs": [],
   "source": [
    "from omegaconf import OmegaConf\n",
    "from data.chat_data_classes import Menu, MenuList\n",
    "import attr"
   ]
  },
  {
   "cell_type": "code",
   "execution_count": 2,
   "metadata": {},
   "outputs": [],
   "source": [
    "breakfast_menu = Menu('Twist','rp 7 I Ss | y\\nIW\\nESPRESSO & WINE\\n\\nWINTER BRUNCH MENU AVAILABLE UNTIL 1.30PM\\n\\n \\n\\n \\n\\nRUSTIC TOAST - 8.5\\nSourdough or Ciabatta.\\nFig & lemon jam, orange marmalade, strawberry\\njam, peanut butter or vegemite.\\n\\nHOT CHEESE - 9.5\\n\\nWith tomato & oregano on sourdough.\\n\\nFRUIT TOAST - 8.5\\nApricots, dates, fig & nuts, toasted with butter.\\n\\nGRANOLA CUP GF - 10.5\\nHouse-made granola, greek yoghurt, strawberry\\njam and strawberries.\\n\\nACAI BOWL GF - 17.5\\nHouse-made granola, banana, strawberry.\\nadd peanut butter 2\\n\\nITALIAN OMELETTE - 23\\nTomato, mozarella, topped with basil & walnut\\npesto, mixed leaves, ciabatta.\\n\\nMEXICAN EGGS - 23\\nMixed beans cooked with chilli, garlic, onion and\\nherbs in rich tomato sauce, baked with\\nmozzerella, two poached eggs, ciabatta.\\n\\nEGGS BENEDICT - 26\\nTwo poached eggs, spinach, and hollandaise sauce\\nserved on sourdough.\\nChoice of : salmon, bacon or ham.\\n\\nEGGS POACHED OR FRIED - 13\\n\\nServed on sourdough or ciabatta.\\n\\nEXTRAS:\\n\\nSalmon, Gourmet Pork Sausages 6\\nBacon, Haloumi 5\\nAvocado, Grilled Tomato 4\\nFree-Range Egg 3\\nGluten Free Bread 2\\n\\n \\n\\nTWIST BIG BREAKFAST ~ 28\\nTwo poached or fried eggs, gourmet pork\\nsausages, haloumi, grilled tomato, spinach,\\nsourdough,\\n\\nBREKKY ROLL ~ 13\\nBacon & egy on a milk bun.\\nSauce: tomato, BBQ, chipotle mayo or aioli.\\nadd cheese 1 smashed avo 2\\n\\nTWIST WINTER BUN ~ 17\\nBacon or haloumi, egg, tomato, caramelised\\nonion, mixed leaves, melted cheese, aioli.\\nadd smashed avo 2\\n\\nAVO BRUSCHETTA ~ 22\\nOn sourdough, heirloom tomatoes, fetta,\\nsecret salt, basil & walnut pesto.\\nadd poached egg 3\\n\\nSOUP OF THE DAY - 16\\nWith rustic bread.\\n\\nPlease Sow mW capiorel for\\n\\nhelio.\\nof gourrel Sundiicpes and hore\\nmeade. deseer le\\n\\nWWW.TWISTESPRESSO.COM\\n\\nPlease order at the counter = 10% surcharge Sundays & 15% Public I Tolidays\\n\\n \\n\\x0c')"
   ]
  },
  {
   "cell_type": "code",
   "execution_count": 3,
   "metadata": {},
   "outputs": [
    {
     "data": {
      "text/plain": [
       "Menu(cafe_id='Twist', menu='rp 7 I Ss | y\\nIW\\nESPRESSO & WINE\\n\\nWINTER BRUNCH MENU AVAILABLE UNTIL 1.30PM\\n\\n \\n\\n \\n\\nRUSTIC TOAST - 8.5\\nSourdough or Ciabatta.\\nFig & lemon jam, orange marmalade, strawberry\\njam, peanut butter or vegemite.\\n\\nHOT CHEESE - 9.5\\n\\nWith tomato & oregano on sourdough.\\n\\nFRUIT TOAST - 8.5\\nApricots, dates, fig & nuts, toasted with butter.\\n\\nGRANOLA CUP GF - 10.5\\nHouse-made granola, greek yoghurt, strawberry\\njam and strawberries.\\n\\nACAI BOWL GF - 17.5\\nHouse-made granola, banana, strawberry.\\nadd peanut butter 2\\n\\nITALIAN OMELETTE - 23\\nTomato, mozarella, topped with basil & walnut\\npesto, mixed leaves, ciabatta.\\n\\nMEXICAN EGGS - 23\\nMixed beans cooked with chilli, garlic, onion and\\nherbs in rich tomato sauce, baked with\\nmozzerella, two poached eggs, ciabatta.\\n\\nEGGS BENEDICT - 26\\nTwo poached eggs, spinach, and hollandaise sauce\\nserved on sourdough.\\nChoice of : salmon, bacon or ham.\\n\\nEGGS POACHED OR FRIED - 13\\n\\nServed on sourdough or ciabatta.\\n\\nEXTRAS:\\n\\nSalmon, Gourmet Pork Sausages 6\\nBacon, Haloumi 5\\nAvocado, Grilled Tomato 4\\nFree-Range Egg 3\\nGluten Free Bread 2\\n\\n \\n\\nTWIST BIG BREAKFAST ~ 28\\nTwo poached or fried eggs, gourmet pork\\nsausages, haloumi, grilled tomato, spinach,\\nsourdough,\\n\\nBREKKY ROLL ~ 13\\nBacon & egy on a milk bun.\\nSauce: tomato, BBQ, chipotle mayo or aioli.\\nadd cheese 1 smashed avo 2\\n\\nTWIST WINTER BUN ~ 17\\nBacon or haloumi, egg, tomato, caramelised\\nonion, mixed leaves, melted cheese, aioli.\\nadd smashed avo 2\\n\\nAVO BRUSCHETTA ~ 22\\nOn sourdough, heirloom tomatoes, fetta,\\nsecret salt, basil & walnut pesto.\\nadd poached egg 3\\n\\nSOUP OF THE DAY - 16\\nWith rustic bread.\\n\\nPlease Sow mW capiorel for\\n\\nhelio.\\nof gourrel Sundiicpes and hore\\nmeade. deseer le\\n\\nWWW.TWISTESPRESSO.COM\\n\\nPlease order at the counter = 10% surcharge Sundays & 15% Public I Tolidays\\n\\n \\n\\x0c', type='all', time_zone='Australia/Sydney', start_date='1900-01-01', end_date='3000-01-01', start_time_of_day='00:00', end_time_of_day='23:59')"
      ]
     },
     "execution_count": 3,
     "metadata": {},
     "output_type": "execute_result"
    }
   ],
   "source": [
    "breakfast_menu"
   ]
  },
  {
   "cell_type": "code",
   "execution_count": 4,
   "metadata": {},
   "outputs": [],
   "source": [
    "OmegaConf.save(breakfast_menu,'twist_breakfast_menu.yaml')"
   ]
  },
  {
   "cell_type": "code",
   "execution_count": 5,
   "metadata": {},
   "outputs": [],
   "source": [
    "conf = Menu.from_omega_conf(OmegaConf.load('menus/twist_breakfast_menu.yaml'))"
   ]
  },
  {
   "cell_type": "code",
   "execution_count": 9,
   "metadata": {},
   "outputs": [],
   "source": [
    "menu_list = MenuList('twist',[breakfast_menu,breakfast_menu])"
   ]
  },
  {
   "cell_type": "code",
   "execution_count": 11,
   "metadata": {},
   "outputs": [],
   "source": [
    "OmegaConf.save(menu_list,'twist_all_menus.yaml')"
   ]
  },
  {
   "cell_type": "code",
   "execution_count": 2,
   "metadata": {},
   "outputs": [
    {
     "name": "stdout",
     "output_type": "stream",
     "text": [
      "breakfast\n",
      "breakfast\n"
     ]
    },
    {
     "ename": "ValueError",
     "evalue": "Menu names must be unique. \"breakfast\" was repeated for twist",
     "output_type": "error",
     "traceback": [
      "\u001b[0;31m---------------------------------------------------------------------------\u001b[0m",
      "\u001b[0;31mValueError\u001b[0m                                Traceback (most recent call last)",
      "\u001b[1;32m/home/mtman/Documents/Repos/yakwith.ai/voice_chat/tests.ipynb Cell 38\u001b[0m line \u001b[0;36m1\n\u001b[0;32m----> <a href='vscode-notebook-cell://ssh-remote%2Bbeastly/home/mtman/Documents/Repos/yakwith.ai/voice_chat/tests.ipynb#X60sdnNjb2RlLXJlbW90ZQ%3D%3D?line=0'>1</a>\u001b[0m list_menus \u001b[39m=\u001b[39m MenuList\u001b[39m.\u001b[39;49mfrom_omega_conf(OmegaConf\u001b[39m.\u001b[39;49mload(\u001b[39m'\u001b[39;49m\u001b[39mtwist_all_menus.yaml\u001b[39;49m\u001b[39m'\u001b[39;49m))\n",
      "File \u001b[0;32m~/Documents/Repos/yakwith.ai/voice_chat/data/chat_data_classes.py:161\u001b[0m, in \u001b[0;36mMenuList.from_omega_conf\u001b[0;34m(cls, conf)\u001b[0m\n\u001b[1;32m    159\u001b[0m     \u001b[39melse\u001b[39;00m:\n\u001b[1;32m    160\u001b[0m         \u001b[39msetattr\u001b[39m(new_menu_list, key, _value)\n\u001b[0;32m--> 161\u001b[0m new_menu_list\u001b[39m.\u001b[39;49m__attrs_post_init__()\n\u001b[1;32m    162\u001b[0m \u001b[39mreturn\u001b[39;00m new_menu_list\n",
      "File \u001b[0;32m~/Documents/Repos/yakwith.ai/voice_chat/data/chat_data_classes.py:145\u001b[0m, in \u001b[0;36mMenuList.__attrs_post_init__\u001b[0;34m(self)\u001b[0m\n\u001b[1;32m    143\u001b[0m \u001b[39mprint\u001b[39m(menu\u001b[39m.\u001b[39mname)\n\u001b[1;32m    144\u001b[0m \u001b[39mif\u001b[39;00m menu\u001b[39m.\u001b[39mname \u001b[39min\u001b[39;00m menu_names:\n\u001b[0;32m--> 145\u001b[0m     \u001b[39mraise\u001b[39;00m \u001b[39mValueError\u001b[39;00m(\u001b[39mf\u001b[39m\u001b[39m'\u001b[39m\u001b[39mMenu names must be unique. \u001b[39m\u001b[39m\"\u001b[39m\u001b[39m{\u001b[39;00mmenu\u001b[39m.\u001b[39mname\u001b[39m}\u001b[39;00m\u001b[39m\"\u001b[39m\u001b[39m was repeated for \u001b[39m\u001b[39m{\u001b[39;00m\u001b[39mself\u001b[39m\u001b[39m.\u001b[39mcafe_id\u001b[39m}\u001b[39;00m\u001b[39m'\u001b[39m)\n\u001b[1;32m    146\u001b[0m \u001b[39melse\u001b[39;00m:\n\u001b[1;32m    147\u001b[0m     menu_names\u001b[39m.\u001b[39mappend(menu\u001b[39m.\u001b[39mname)\n",
      "\u001b[0;31mValueError\u001b[0m: Menu names must be unique. \"breakfast\" was repeated for twist"
     ]
    }
   ],
   "source": [
    "list_menus = MenuList.from_omega_conf(OmegaConf.load('twist_all_menus.yaml'))"
   ]
  },
  {
   "cell_type": "code",
   "execution_count": 3,
   "metadata": {},
   "outputs": [
    {
     "data": {
      "text/plain": [
       "MenuList(cafe_id='twist', menus=[Menu(cafe_id='Twist', menu='rp 7 I Ss | y\\nIW\\nESPRESSO & WINE\\n\\nWINTER BRUNCH MENU AVAILABLE UNTIL 1.30PM\\n\\n \\n\\n \\n\\nRUSTIC TOAST - 8.5\\nSourdough or Ciabatta.\\nFig & lemon jam, orange marmalade, strawberry\\njam, peanut butter or vegemite.\\n\\nHOT CHEESE - 9.5\\n\\nWith tomato & oregano on sourdough.\\n\\nFRUIT TOAST - 8.5\\nApricots, dates, fig & nuts, toasted with butter.\\n\\nGRANOLA CUP GF - 10.5\\nHouse-made granola, greek yoghurt, strawberry\\njam and strawberries.\\n\\nACAI BOWL GF - 17.5\\nHouse-made granola, banana, strawberry.\\nadd peanut butter 2\\n\\nITALIAN OMELETTE - 23\\nTomato, mozarella, topped with basil & walnut\\npesto, mixed leaves, ciabatta.\\n\\nMEXICAN EGGS - 23\\nMixed beans cooked with chilli, garlic, onion and\\nherbs in rich tomato sauce, baked with\\nmozzerella, two poached eggs, ciabatta.\\n\\nEGGS BENEDICT - 26\\nTwo poached eggs, spinach, and hollandaise sauce\\nserved on sourdough.\\nChoice of : salmon, bacon or ham.\\n\\nEGGS POACHED OR FRIED - 13\\n\\nServed on sourdough or ciabatta.\\n\\nEXTRAS:\\n\\nSalmon, Gourmet Pork Sausages 6\\nBacon, Haloumi 5\\nAvocado, Grilled Tomato 4\\nFree-Range Egg 3\\nGluten Free Bread 2\\n\\n \\n\\nTWIST BIG BREAKFAST ~ 28\\nTwo poached or fried eggs, gourmet pork\\nsausages, haloumi, grilled tomato, spinach,\\nsourdough,\\n\\nBREKKY ROLL ~ 13\\nBacon & egy on a milk bun.\\nSauce: tomato, BBQ, chipotle mayo or aioli.\\nadd cheese 1 smashed avo 2\\n\\nTWIST WINTER BUN ~ 17\\nBacon or haloumi, egg, tomato, caramelised\\nonion, mixed leaves, melted cheese, aioli.\\nadd smashed avo 2\\n\\nAVO BRUSCHETTA ~ 22\\nOn sourdough, heirloom tomatoes, fetta,\\nsecret salt, basil & walnut pesto.\\nadd poached egg 3\\n\\nSOUP OF THE DAY - 16\\nWith rustic bread.\\n\\nPlease Sow mW capiorel for\\n\\nhelio.\\nof gourrel Sundiicpes and hore\\nmeade. deseer le\\n\\nWWW.TWISTESPRESSO.COM\\n\\nPlease order at the counter = 10% surcharge Sundays & 15% Public I Tolidays\\n\\n \\n\\x0c', name='breakfast', type='all', time_zone='Australia/Sydney', start_date='1900-01-01', end_date='3000-01-01', start_time_of_day='00:00', end_time_of_day='23:59'), Menu(cafe_id='Twist', menu='rp 7 I Ss | y\\nIW\\nESPRESSO & WINE\\n\\nWINTER BRUNCH MENU AVAILABLE UNTIL 1.30PM\\n\\n \\n\\n \\n\\nRUSTIC TOAST - 8.5\\nSourdough or Ciabatta.\\nFig & lemon jam, orange marmalade, strawberry\\njam, peanut butter or vegemite.\\n\\nHOT CHEESE - 9.5\\n\\nWith tomato & oregano on sourdough.\\n\\nFRUIT TOAST - 8.5\\nApricots, dates, fig & nuts, toasted with butter.\\n\\nGRANOLA CUP GF - 10.5\\nHouse-made granola, greek yoghurt, strawberry\\njam and strawberries.\\n\\nACAI BOWL GF - 17.5\\nHouse-made granola, banana, strawberry.\\nadd peanut butter 2\\n\\nITALIAN OMELETTE - 23\\nTomato, mozarella, topped with basil & walnut\\npesto, mixed leaves, ciabatta.\\n\\nMEXICAN EGGS - 23\\nMixed beans cooked with chilli, garlic, onion and\\nherbs in rich tomato sauce, baked with\\nmozzerella, two poached eggs, ciabatta.\\n\\nEGGS BENEDICT - 26\\nTwo poached eggs, spinach, and hollandaise sauce\\nserved on sourdough.\\nChoice of : salmon, bacon or ham.\\n\\nEGGS POACHED OR FRIED - 13\\n\\nServed on sourdough or ciabatta.\\n\\nEXTRAS:\\n\\nSalmon, Gourmet Pork Sausages 6\\nBacon, Haloumi 5\\nAvocado, Grilled Tomato 4\\nFree-Range Egg 3\\nGluten Free Bread 2\\n\\n \\n\\nTWIST BIG BREAKFAST ~ 28\\nTwo poached or fried eggs, gourmet pork\\nsausages, haloumi, grilled tomato, spinach,\\nsourdough,\\n\\nBREKKY ROLL ~ 13\\nBacon & egy on a milk bun.\\nSauce: tomato, BBQ, chipotle mayo or aioli.\\nadd cheese 1 smashed avo 2\\n\\nTWIST WINTER BUN ~ 17\\nBacon or haloumi, egg, tomato, caramelised\\nonion, mixed leaves, melted cheese, aioli.\\nadd smashed avo 2\\n\\nAVO BRUSCHETTA ~ 22\\nOn sourdough, heirloom tomatoes, fetta,\\nsecret salt, basil & walnut pesto.\\nadd poached egg 3\\n\\nSOUP OF THE DAY - 16\\nWith rustic bread.\\n\\nPlease Sow mW capiorel for\\n\\nhelio.\\nof gourrel Sundiicpes and hore\\nmeade. deseer le\\n\\nWWW.TWISTESPRESSO.COM\\n\\nPlease order at the counter = 10% surcharge Sundays & 15% Public I Tolidays\\n\\n \\n\\x0c', name='breakfast', type='all', time_zone='Australia/Sydney', start_date='1900-01-01', end_date='3000-01-01', start_time_of_day='00:00', end_time_of_day='23:59')])"
      ]
     },
     "execution_count": 3,
     "metadata": {},
     "output_type": "execute_result"
    }
   ],
   "source": [
    "list_menus"
   ]
  },
  {
   "cell_type": "code",
   "execution_count": null,
   "metadata": {},
   "outputs": [],
   "source": []
  }
 ],
 "metadata": {
  "kernelspec": {
   "display_name": ".venv",
   "language": "python",
   "name": "python3"
  },
  "language_info": {
   "codemirror_mode": {
    "name": "ipython",
    "version": 3
   },
   "file_extension": ".py",
   "mimetype": "text/x-python",
   "name": "python",
   "nbconvert_exporter": "python",
   "pygments_lexer": "ipython3",
   "version": "3.10.12"
  }
 },
 "nbformat": 4,
 "nbformat_minor": 2
}
