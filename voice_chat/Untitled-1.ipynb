{
 "cells": [
  {
   "cell_type": "code",
   "execution_count": 1,
   "metadata": {},
   "outputs": [],
   "source": [
    "from dataclasses import dataclass\n",
    "import json\n",
    "from typing import List\n",
    "\n",
    "from pydantic import BaseModel\n",
    "\n",
    "\n",
    "class InferencePrompt(BaseModel):\n",
    "    role: str\n",
    "    content: str\n",
    "\n",
    "class InferenceDialog(BaseModel):\n",
    "    dialogs: List[List[InferencePrompt]]\n",
    "        \n",
    "class InferenceSessionDialog(BaseModel):\n",
    "    prompt: List[InferencePrompt]\n",
    "    session_id: str\n"
   ]
  },
  {
   "cell_type": "code",
   "execution_count": 2,
   "metadata": {},
   "outputs": [],
   "source": [
    "a = InferencePrompt(role='user',content='text')"
   ]
  },
  {
   "cell_type": "code",
   "execution_count": 3,
   "metadata": {},
   "outputs": [
    {
     "data": {
      "text/plain": [
       "'{\"role\": \"user\", \"content\": \"text\"}'"
      ]
     },
     "execution_count": 3,
     "metadata": {},
     "output_type": "execute_result"
    }
   ],
   "source": [
    "a.json()"
   ]
  },
  {
   "cell_type": "code",
   "execution_count": 9,
   "metadata": {},
   "outputs": [],
   "source": [
    "d = InferenceSessionDialog(prompt=[a], session_id='skdfjl')"
   ]
  },
  {
   "cell_type": "code",
   "execution_count": 13,
   "metadata": {},
   "outputs": [],
   "source": [
    "e=d.json()"
   ]
  },
  {
   "cell_type": "code",
   "execution_count": 14,
   "metadata": {},
   "outputs": [
    {
     "data": {
      "text/plain": [
       "str"
      ]
     },
     "execution_count": 14,
     "metadata": {},
     "output_type": "execute_result"
    }
   ],
   "source": [
    "type(e)"
   ]
  },
  {
   "cell_type": "code",
   "execution_count": 17,
   "metadata": {},
   "outputs": [
    {
     "data": {
      "text/plain": [
       "InferenceSessionDialog(prompt=[InferencePrompt(role='user', content='text')], session_id='skdfjl')"
      ]
     },
     "execution_count": 17,
     "metadata": {},
     "output_type": "execute_result"
    }
   ],
   "source": [
    "InferenceSessionDialog(**json.loads(e))"
   ]
  },
  {
   "cell_type": "code",
   "execution_count": 4,
   "metadata": {},
   "outputs": [
    {
     "name": "stdout",
     "output_type": "stream",
     "text": [
      "yes\n"
     ]
    }
   ],
   "source": [
    "if (a:=3)>1:\n",
    "    print ('yes')"
   ]
  },
  {
   "cell_type": "code",
   "execution_count": 5,
   "metadata": {},
   "outputs": [
    {
     "data": {
      "text/plain": [
       "3"
      ]
     },
     "execution_count": 5,
     "metadata": {},
     "output_type": "execute_result"
    }
   ],
   "source": [
    "a"
   ]
  },
  {
   "cell_type": "code",
   "execution_count": 19,
   "metadata": {},
   "outputs": [
    {
     "name": "stdout",
     "output_type": "stream",
     "text": [
      ":raises_an_eyebrow:\n"
     ]
    }
   ],
   "source": [
    "import emoji\n",
    "print(emoji.emojize(':raises_an_eyebrow:',language='alias'))"
   ]
  },
  {
   "cell_type": "code",
   "execution_count": 1,
   "metadata": {},
   "outputs": [],
   "source": [
    "def islast(o):\n",
    "    it = o.__iter__()\n",
    "    e = it.next()\n",
    "    while True:\n",
    "        try:\n",
    "            nxt = it.next()\n",
    "            yield (False, e)\n",
    "            e = nxt\n",
    "        except StopIteration:\n",
    "            yield (True, e)\n",
    "            break"
   ]
  },
  {
   "cell_type": "code",
   "execution_count": 2,
   "metadata": {},
   "outputs": [
    {
     "ename": "AttributeError",
     "evalue": "'range_iterator' object has no attribute 'next'",
     "output_type": "error",
     "traceback": [
      "\u001b[0;31m---------------------------------------------------------------------------\u001b[0m",
      "\u001b[0;31mAttributeError\u001b[0m                            Traceback (most recent call last)",
      "\u001b[1;32m/home/mtman/Documents/Repos/yakwith.ai/voice_chat/Untitled-1.ipynb Cell 12\u001b[0m line \u001b[0;36m1\n\u001b[0;32m----> <a href='vscode-notebook-cell://ssh-remote%2Bbeastly/home/mtman/Documents/Repos/yakwith.ai/voice_chat/Untitled-1.ipynb#X14sdnNjb2RlLXJlbW90ZQ%3D%3D?line=0'>1</a>\u001b[0m \u001b[39mfor\u001b[39;00m i \u001b[39min\u001b[39;00m islast(\u001b[39mrange\u001b[39m(\u001b[39m4\u001b[39m)): \n\u001b[1;32m      <a href='vscode-notebook-cell://ssh-remote%2Bbeastly/home/mtman/Documents/Repos/yakwith.ai/voice_chat/Untitled-1.ipynb#X14sdnNjb2RlLXJlbW90ZQ%3D%3D?line=1'>2</a>\u001b[0m     \u001b[39mprint\u001b[39m( i)\n",
      "\u001b[1;32m/home/mtman/Documents/Repos/yakwith.ai/voice_chat/Untitled-1.ipynb Cell 12\u001b[0m line \u001b[0;36m3\n\u001b[1;32m      <a href='vscode-notebook-cell://ssh-remote%2Bbeastly/home/mtman/Documents/Repos/yakwith.ai/voice_chat/Untitled-1.ipynb#X14sdnNjb2RlLXJlbW90ZQ%3D%3D?line=0'>1</a>\u001b[0m \u001b[39mdef\u001b[39;00m \u001b[39mislast\u001b[39m(o):\n\u001b[1;32m      <a href='vscode-notebook-cell://ssh-remote%2Bbeastly/home/mtman/Documents/Repos/yakwith.ai/voice_chat/Untitled-1.ipynb#X14sdnNjb2RlLXJlbW90ZQ%3D%3D?line=1'>2</a>\u001b[0m     it \u001b[39m=\u001b[39m o\u001b[39m.\u001b[39m\u001b[39m__iter__\u001b[39m()\n\u001b[0;32m----> <a href='vscode-notebook-cell://ssh-remote%2Bbeastly/home/mtman/Documents/Repos/yakwith.ai/voice_chat/Untitled-1.ipynb#X14sdnNjb2RlLXJlbW90ZQ%3D%3D?line=2'>3</a>\u001b[0m     e \u001b[39m=\u001b[39m it\u001b[39m.\u001b[39;49mnext()\n\u001b[1;32m      <a href='vscode-notebook-cell://ssh-remote%2Bbeastly/home/mtman/Documents/Repos/yakwith.ai/voice_chat/Untitled-1.ipynb#X14sdnNjb2RlLXJlbW90ZQ%3D%3D?line=3'>4</a>\u001b[0m     \u001b[39mwhile\u001b[39;00m \u001b[39mTrue\u001b[39;00m:\n\u001b[1;32m      <a href='vscode-notebook-cell://ssh-remote%2Bbeastly/home/mtman/Documents/Repos/yakwith.ai/voice_chat/Untitled-1.ipynb#X14sdnNjb2RlLXJlbW90ZQ%3D%3D?line=4'>5</a>\u001b[0m         \u001b[39mtry\u001b[39;00m:\n",
      "\u001b[0;31mAttributeError\u001b[0m: 'range_iterator' object has no attribute 'next'"
     ]
    }
   ],
   "source": [
    "for i in islast(range(4)): \n",
    "    print( i)"
   ]
  },
  {
   "cell_type": "code",
   "execution_count": null,
   "metadata": {},
   "outputs": [],
   "source": []
  }
 ],
 "metadata": {
  "kernelspec": {
   "display_name": ".venv",
   "language": "python",
   "name": "python3"
  },
  "language_info": {
   "codemirror_mode": {
    "name": "ipython",
    "version": 3
   },
   "file_extension": ".py",
   "mimetype": "text/x-python",
   "name": "python",
   "nbconvert_exporter": "python",
   "pygments_lexer": "ipython3",
   "version": "3.10.12"
  },
  "orig_nbformat": 4
 },
 "nbformat": 4,
 "nbformat_minor": 2
}
